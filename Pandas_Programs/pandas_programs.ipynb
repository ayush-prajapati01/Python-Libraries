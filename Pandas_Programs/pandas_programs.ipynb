{
 "cells": [
  {
   "cell_type": "markdown",
   "id": "b79bb789-3113-42ca-b25f-344405640a6e",
   "metadata": {},
   "source": [
    "'''\n",
    "<br>\n",
    "@Author: Ayush Prajapati<br>\n",
    "@Date: 07-07-2024<br>\n",
    "@Last Modified by: Ayush Prajapati<br>\n",
    "@Last Modified time: 08-07-2024<br>\n",
    "@Title: Python Programs on Pandas Library\n",
    "<br>\n",
    "'''"
   ]
  },
  {
   "cell_type": "code",
   "execution_count": 2,
   "id": "f55cf03e-c54b-42da-ab2b-8987581cbc65",
   "metadata": {},
   "outputs": [],
   "source": [
    "import numpy as np\n",
    "import pandas as pd"
   ]
  },
  {
   "cell_type": "markdown",
   "id": "7fc8c3ec-0287-4098-b945-a2349ddfbf75",
   "metadata": {},
   "source": [
    "## Q1\n",
    "Python program to create and display a one-dimensional array-like object\n",
    "containing an array of data using Pandas module."
   ]
  },
  {
   "cell_type": "code",
   "execution_count": 15,
   "id": "e8f097db-9ff2-463d-9eb1-277603424a1d",
   "metadata": {},
   "outputs": [
    {
     "name": "stdout",
     "output_type": "stream",
     "text": [
      "The orignal array is ['C++' 'Java' 'Python' 'Rust']\n",
      "The pandas series is \n",
      "0       C++\n",
      "1      Java\n",
      "2    Python\n",
      "3      Rust\n",
      "dtype: object\n"
     ]
    }
   ],
   "source": [
    "def main():\n",
    "    languages = np.array(['C++', 'Java', 'Python', 'Rust'])\n",
    "    print(f\"The orignal array is {languages}\")\n",
    "    languages_series = pd.Series(languages)\n",
    "    print(f\"The pandas series is \\n{languages_series}\")\n",
    "\n",
    "\n",
    "if __name__ == \"__main__\":\n",
    "    main()"
   ]
  },
  {
   "cell_type": "markdown",
   "id": "836c7aa5-cd5b-4388-91c4-a1b2277a93e0",
   "metadata": {},
   "source": [
    "## Q2\n",
    "Python program to convert a Panda module Series to Python list and it's type."
   ]
  },
  {
   "cell_type": "code",
   "execution_count": 8,
   "id": "51f4743d-9d0c-4dae-a0c6-03b0b865c3bf",
   "metadata": {},
   "outputs": [
    {
     "name": "stdout",
     "output_type": "stream",
     "text": [
      "The orignal dictionary is {1: 'C++', 2: 'Java', 3: 'Python', 4: 'Rust'}\n",
      "The pandas series is \n",
      "1       C++\n",
      "2      Java\n",
      "3    Python\n",
      "4      Rust\n",
      "dtype: object\n",
      "\n",
      "The list is: ['C++', 'Java', 'Python', 'Rust']\n"
     ]
    }
   ],
   "source": [
    "def main():\n",
    "    languages_dict = {\n",
    "        1: 'C++',\n",
    "        2: 'Java',\n",
    "        3: 'Python',\n",
    "        4: 'Rust'\n",
    "    }\n",
    "    \n",
    "    print(f\"The orignal dictionary is {languages_dict}\")\n",
    "    languages_series = pd.Series(languages_dict)\n",
    "    print(f\"The pandas series is \\n{languages_series}\")\n",
    "    print(f\"\\nThe list is: {languages_series.tolist()}\")\n",
    "\n",
    "\n",
    "if __name__ == \"__main__\":\n",
    "    main()"
   ]
  }
 ],
 "metadata": {
  "kernelspec": {
   "display_name": "Python 3 (ipykernel)",
   "language": "python",
   "name": "python3"
  },
  "language_info": {
   "codemirror_mode": {
    "name": "ipython",
    "version": 3
   },
   "file_extension": ".py",
   "mimetype": "text/x-python",
   "name": "python",
   "nbconvert_exporter": "python",
   "pygments_lexer": "ipython3",
   "version": "3.10.12"
  }
 },
 "nbformat": 4,
 "nbformat_minor": 5
}
