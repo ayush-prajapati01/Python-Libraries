{
 "cells": [
  {
   "cell_type": "markdown",
   "id": "b79bb789-3113-42ca-b25f-344405640a6e",
   "metadata": {},
   "source": [
    "'''\n",
    "<br>\n",
    "@Author: Ayush Prajapati<br>\n",
    "@Date: 07-07-2024<br>\n",
    "@Last Modified by: Ayush Prajapati<br>\n",
    "@Last Modified time: 08-07-2024<br>\n",
    "@Title: Python Programs on Pandas Library\n",
    "<br>\n",
    "'''"
   ]
  },
  {
   "cell_type": "code",
   "execution_count": 2,
   "id": "f55cf03e-c54b-42da-ab2b-8987581cbc65",
   "metadata": {},
   "outputs": [],
   "source": [
    "import numpy as np\n",
    "import pandas as pd"
   ]
  },
  {
   "cell_type": "markdown",
   "id": "7fc8c3ec-0287-4098-b945-a2349ddfbf75",
   "metadata": {},
   "source": [
    "## Q1\n",
    "Python program to create and display a one-dimensional array-like object\n",
    "containing an array of data using Pandas module."
   ]
  },
  {
   "cell_type": "code",
   "execution_count": 15,
   "id": "e8f097db-9ff2-463d-9eb1-277603424a1d",
   "metadata": {},
   "outputs": [
    {
     "name": "stdout",
     "output_type": "stream",
     "text": [
      "The orignal array is ['C++' 'Java' 'Python' 'Rust']\n",
      "The pandas series is \n",
      "0       C++\n",
      "1      Java\n",
      "2    Python\n",
      "3      Rust\n",
      "dtype: object\n"
     ]
    }
   ],
   "source": [
    "def main():\n",
    "    languages = np.array(['C++', 'Java', 'Python', 'Rust'])\n",
    "    print(f\"The orignal array is {languages}\")\n",
    "    languages_series = pd.Series(languages)\n",
    "    print(f\"The pandas series is \\n{languages_series}\")\n",
    "\n",
    "\n",
    "if __name__ == \"__main__\":\n",
    "    main()"
   ]
  },
  {
   "cell_type": "markdown",
   "id": "836c7aa5-cd5b-4388-91c4-a1b2277a93e0",
   "metadata": {},
   "source": [
    "## Q2\n",
    "Python program to convert a Panda module Series to Python list and it's type."
   ]
  },
  {
   "cell_type": "code",
   "execution_count": 8,
   "id": "51f4743d-9d0c-4dae-a0c6-03b0b865c3bf",
   "metadata": {},
   "outputs": [
    {
     "name": "stdout",
     "output_type": "stream",
     "text": [
      "The orignal dictionary is {1: 'C++', 2: 'Java', 3: 'Python', 4: 'Rust'}\n",
      "The pandas series is \n",
      "1       C++\n",
      "2      Java\n",
      "3    Python\n",
      "4      Rust\n",
      "dtype: object\n",
      "\n",
      "The list is: ['C++', 'Java', 'Python', 'Rust']\n"
     ]
    }
   ],
   "source": [
    "def main():\n",
    "    languages_dict = {\n",
    "        1: 'C++',\n",
    "        2: 'Java',\n",
    "        3: 'Python',\n",
    "        4: 'Rust'\n",
    "    }\n",
    "    \n",
    "    print(f\"The orignal dictionary is {languages_dict}\")\n",
    "    languages_series = pd.Series(languages_dict)\n",
    "    print(f\"The pandas series is \\n{languages_series}\")\n",
    "    print(f\"\\nThe list is: {languages_series.tolist()}\")\n",
    "\n",
    "\n",
    "if __name__ == \"__main__\":\n",
    "    main()"
   ]
  },
  {
   "cell_type": "markdown",
   "id": "88ce66f0-3a5a-48e5-a8da-77abd892bd47",
   "metadata": {},
   "source": [
    "## Q3\n",
    "Python program to add, subtract, multiple and divide two Pandas Series."
   ]
  },
  {
   "cell_type": "code",
   "execution_count": 11,
   "id": "bd6ffbdb-1e65-4c68-975d-5cfb01455512",
   "metadata": {},
   "outputs": [],
   "source": [
    "def series_operations(series_a, series_b):\n",
    "    \"\"\"\n",
    "    Description: \n",
    "        This function used to perform arithmetic operations on pandas series\n",
    "    Parameters:\n",
    "        series_a, series_b: pandas series\n",
    "    Return:\n",
    "        float: add, sub, mul, div\n",
    "    \"\"\"\n",
    "    return series_a + series_b, series_a - series_b, series_a * series_b, series_a / series_b"
   ]
  },
  {
   "cell_type": "code",
   "execution_count": 15,
   "id": "ffb86e08-429a-4763-b1e3-2041350a9025",
   "metadata": {},
   "outputs": [
    {
     "name": "stdout",
     "output_type": "stream",
     "text": [
      "The arithemetic operation on series \n",
      "0    1\n",
      "1    2\n",
      "2    3\n",
      "3    4\n",
      "4    5\n",
      "dtype: int64 and \n",
      "0     6\n",
      "1     7\n",
      "2     8\n",
      "3     9\n",
      "4    10\n",
      "dtype: int64 is:\n",
      " \n",
      "Add:\n",
      "0     7\n",
      "1     9\n",
      "2    11\n",
      "3    13\n",
      "4    15\n",
      "dtype: int64\n",
      "\n",
      "Sub:\n",
      "0   -5\n",
      "1   -5\n",
      "2   -5\n",
      "3   -5\n",
      "4   -5\n",
      "dtype: int64\n",
      "\n",
      "Mul:\n",
      "0     6\n",
      "1    14\n",
      "2    24\n",
      "3    36\n",
      "4    50\n",
      "dtype: int64\n",
      "\n",
      "Div:\n",
      "0    0.166667\n",
      "1    0.285714\n",
      "2    0.375000\n",
      "3    0.444444\n",
      "4    0.500000\n",
      "dtype: float64 \n"
     ]
    }
   ],
   "source": [
    "def main():\n",
    "    series_a = pd.Series([1, 2, 3, 4, 5]) \n",
    "    series_b= pd.Series([6, 7, 8, 9, 10])\n",
    "    add,sub,mul,div = series_operations(series_a, series_b)\n",
    "    print(f\"The arithemetic operation on series \\n{series_a} and \\n{series_b} is:\\n\",\n",
    "          f\"\\nAdd:\\n{add}\\n\\nSub:\\n{sub}\\n\\nMul:\\n{mul}\\n\\nDiv:\\n{div} \")\n",
    "\n",
    "\n",
    "if __name__ == \"__main__\":\n",
    "    main()"
   ]
  },
  {
   "cell_type": "markdown",
   "id": "d8e5bcdb-89ea-4872-8580-2410fa575228",
   "metadata": {},
   "source": [
    "## Q4\n",
    "Python program to get the powers of an array values element-wise."
   ]
  },
  {
   "cell_type": "code",
   "execution_count": 19,
   "id": "c27e6895-322f-4f68-b4e0-2e7a7c613ac5",
   "metadata": {},
   "outputs": [
    {
     "name": "stdout",
     "output_type": "stream",
     "text": [
      "Enter number of elements in the first array:  5\n",
      "Enter 1 element:  1\n",
      "Enter 2 element:  2\n",
      "Enter 3 element:  3\n",
      "Enter 4 element:  4\n",
      "Enter 5 element:  5\n"
     ]
    },
    {
     "name": "stdout",
     "output_type": "stream",
     "text": [
      "\n",
      "The orignal series is \n",
      "0    1\n",
      "1    2\n",
      "2    3\n",
      "3    4\n",
      "4    5\n",
      "dtype: int64\n",
      "\n"
     ]
    },
    {
     "name": "stdout",
     "output_type": "stream",
     "text": [
      "Enter 1 power:  2\n",
      "Enter 2 power:  2\n",
      "Enter 3 power:  2\n",
      "Enter 4 power:  2\n",
      "Enter 5 power:  2\n"
     ]
    },
    {
     "name": "stdout",
     "output_type": "stream",
     "text": [
      "\n",
      "The power series is \n",
      "0    2\n",
      "1    2\n",
      "2    2\n",
      "3    2\n",
      "4    2\n",
      "dtype: int64\n",
      "\n",
      "The array raised to another array is: [ 1  4  9 16 25]\n"
     ]
    }
   ],
   "source": [
    "def main():\n",
    "    n = int(input(\"Enter number of elements in the first array: \"))\n",
    "    arr = np.array([(int(input(f\"Enter {i+1} element: \"))) for i in range(n)])\n",
    "    num_series = pd.Series(arr)\n",
    "    print(f\"\\nThe orignal series is \\n{num_series}\\n\")\n",
    "    \n",
    "    arr = np.array([(int(input(f\"Enter {i+1} power: \"))) for i in range(n)])\n",
    "    power_series = pd.Series(arr)\n",
    "    print(f\"\\nThe power series is \\n{power_series}\")\n",
    "\n",
    "    power_arr = np.array([(num_series[index] ** power_series[index]) for index in range(len(num_series))])\n",
    "    print(f\"\\nThe array raised to another array is: {power_arr}\")\n",
    "\n",
    "\n",
    "if __name__ == \"__main__\":\n",
    "    main()"
   ]
  },
  {
   "cell_type": "markdown",
   "id": "6c6db468-293a-4882-9f24-34fb487cb87c",
   "metadata": {},
   "source": [
    "## Q5\n",
    "Python program to create and display a DataFrame from a specified dictionary data which has the index labels."
   ]
  },
  {
   "cell_type": "code",
   "execution_count": 30,
   "id": "6a8d1a84-7de7-4947-9b74-cfc131a6333a",
   "metadata": {},
   "outputs": [
    {
     "name": "stdout",
     "output_type": "stream",
     "text": [
      "\n",
      "The pandas dataframe is \n",
      "\n",
      "        name  score  attempts qualify\n",
      "a  Anastasia   12.5         1     yes\n",
      "b       Dima    9.0         3      no\n",
      "c  Katherine   16.5         2     yes\n",
      "d      James    NaN         3      no\n",
      "e      Emily    9.0         2      no\n",
      "f    Michael   20.0         3     yes\n",
      "g    Matthew   14.5         1     yes\n",
      "h      Laura    NaN         1      no\n",
      "i      Kevin    8.0         2      no\n",
      "j      Jonas   19.0         1     yes\n",
      "\n",
      "The summary of dataframe is \n",
      "\n",
      "        name  score  attempts qualify\n",
      "a  Anastasia   12.5         1     yes\n",
      "b       Dima    9.0         3      no\n",
      "c  Katherine   16.5         2     yes\n",
      "d      James    NaN         3      no\n",
      "e      Emily    9.0         2      no\n",
      "f    Michael   20.0         3     yes\n",
      "g    Matthew   14.5         1     yes\n",
      "h      Laura    NaN         1      no\n",
      "i      Kevin    8.0         2      no\n",
      "j      Jonas   19.0         1     yes\n"
     ]
    }
   ],
   "source": [
    "def main():\n",
    "    exam_data = {\n",
    "        'name': ['Anastasia', 'Dima', 'Katherine', 'James', 'Emily', 'Michael', 'Matthew', 'Laura', 'Kevin', 'Jonas'],\n",
    "        'score': [12.5, 9, 16.5, np.nan, 9, 20, 14.5, np.nan, 8, 19],\n",
    "        'attempts': [1, 3, 2, 3, 2, 3, 1, 1, 2, 1],\n",
    "        'qualify': ['yes', 'no', 'yes', 'no', 'no', 'yes', 'yes', 'no', 'no', 'yes']\n",
    "    }\n",
    "\n",
    "    index_labels = ['a', 'b', 'c', 'd', 'e', 'f', 'g', 'h', 'i', 'j']\n",
    "    exam_data_df = pd.DataFrame(exam_data, index = index_labels)\n",
    "    print(f\"\\nThe pandas dataframe is \\n\\n{exam_data_df}\")\n",
    "    print(f\"\\nThe summary of dataframe is \\n\\n{exam_data_df}\")\n",
    "\n",
    "\n",
    "if __name__ == \"__main__\":\n",
    "    main()"
   ]
  },
  {
   "cell_type": "markdown",
   "id": "7ce89be3-3f70-4a58-8d57-758ae02d14cb",
   "metadata": {},
   "source": [
    "## Q6\n",
    "Python program to display a summary of the basic information about a specified Data Frame and its data."
   ]
  },
  {
   "cell_type": "code",
   "execution_count": 50,
   "id": "54f5e88e-3878-4839-8cc5-670ed94d4f69",
   "metadata": {},
   "outputs": [
    {
     "name": "stdout",
     "output_type": "stream",
     "text": [
      "\n",
      "The summary of dataframe is: \n",
      "\n",
      "\n",
      "<class 'pandas.core.frame.DataFrame'>\n",
      "Index: 10 entries, a to j\n",
      "Data columns (total 4 columns):\n",
      " #   Column    Non-Null Count  Dtype  \n",
      "---  ------    --------------  -----  \n",
      " 0   name      10 non-null     object \n",
      " 1   score     8 non-null      float64\n",
      " 2   attempts  10 non-null     int64  \n",
      " 3   qualify   10 non-null     object \n",
      "dtypes: float64(1), int64(1), object(2)\n",
      "memory usage: 400.0+ bytes\n",
      "\n",
      "None,\n",
      "\n",
      "DataFrame Statistics:\n",
      "\n",
      "           score   attempts\n",
      "count   8.000000  10.000000\n",
      "mean   13.562500   1.900000\n",
      "std     4.693746   0.875595\n",
      "min     8.000000   1.000000\n",
      "25%     9.000000   1.000000\n",
      "50%    13.500000   2.000000\n",
      "75%    17.125000   2.750000\n",
      "max    20.000000   3.000000\n"
     ]
    }
   ],
   "source": [
    "def main():\n",
    "    exam_data = {\n",
    "        'name': ['Anastasia', 'Dima', 'Katherine', 'James', 'Emily', 'Michael', 'Matthew', \n",
    "                 'Laura', 'Kevin', 'Jonas'],\n",
    "        'score': [12.5, 9, 16.5, np.nan, 9, 20, 14.5, np.nan, 8, 19],\n",
    "        'attempts': [1, 3, 2, 3, 2, 3, 1, 1, 2, 1],\n",
    "        'qualify': ['yes', 'no', 'yes', 'no', 'no', 'yes', 'yes', 'no', 'no', 'yes']\n",
    "    }\n",
    "\n",
    "    index_labels = ['a', 'b', 'c', 'd', 'e', 'f', 'g', 'h', 'i', 'j']\n",
    "    exam_data_df = pd.DataFrame(exam_data, index = index_labels)\n",
    "    print(\"\\nThe summary of dataframe is: \\n\\n\")\n",
    "    print(f\"\\n{exam_data_df.info()},\\n\\nDataFrame Statistics:\\n\\n{exam_data_df.describe()}\")\n",
    "\n",
    "\n",
    "if __name__ == \"__main__\":\n",
    "    main()"
   ]
  },
  {
   "cell_type": "markdown",
   "id": "f4aae2de-baf1-4a16-bcf0-8ca52ee1ce0a",
   "metadata": {},
   "source": [
    "## Q7\n",
    "Python program to get the first 3 rows of a given DataFrame."
   ]
  },
  {
   "cell_type": "code",
   "execution_count": 43,
   "id": "c604065a-d7f0-4baf-bee8-12deacfd540c",
   "metadata": {},
   "outputs": [
    {
     "name": "stdout",
     "output_type": "stream",
     "text": [
      "\n",
      "The first three rows of dataframe is: \n",
      "\n",
      "        name  score  attempts qualify\n",
      "a  Anastasia   12.5         1     yes\n",
      "b       Dima    9.0         3      no\n",
      "c  Katherine   16.5         2     yes\n"
     ]
    }
   ],
   "source": [
    "def main():\n",
    "    exam_data = {\n",
    "        'name': ['Anastasia', 'Dima', 'Katherine', 'James', 'Emily', 'Michael', 'Matthew', \n",
    "                 'Laura', 'Kevin', 'Jonas'],\n",
    "        'score': [12.5, 9, 16.5, np.nan, 9, 20, 14.5, np.nan, 8, 19],\n",
    "        'attempts': [1, 3, 2, 3, 2, 3, 1, 1, 2, 1],\n",
    "        'qualify': ['yes', 'no', 'yes', 'no', 'no', 'yes', 'yes', 'no', 'no', 'yes']\n",
    "    }\n",
    "\n",
    "    index_labels = ['a', 'b', 'c', 'd', 'e', 'f', 'g', 'h', 'i', 'j']\n",
    "    exam_data_df = pd.DataFrame(exam_data, index = index_labels)\n",
    "    print(f\"\\nThe first three rows of dataframe is: \\n\\n{exam_data_df.head(3)}\")\n",
    "\n",
    "\n",
    "if __name__ == \"__main__\":\n",
    "    main()"
   ]
  },
  {
   "cell_type": "markdown",
   "id": "4e583326-2d98-4155-bdf2-c25978623248",
   "metadata": {},
   "source": [
    "## Q8\n",
    "Python program to select the 'name' and 'score' columns from the following DataFrame."
   ]
  },
  {
   "cell_type": "code",
   "execution_count": 46,
   "id": "7fbb8d86-2f18-4e45-a888-7d77e5868c40",
   "metadata": {},
   "outputs": [
    {
     "name": "stdout",
     "output_type": "stream",
     "text": [
      "\n",
      "The 'name' and 'score' column of dataframe is: \n",
      "\n",
      "        name  score\n",
      "a  Anastasia   12.5\n",
      "b       Dima    9.0\n",
      "c  Katherine   16.5\n",
      "d      James    NaN\n",
      "e      Emily    9.0\n",
      "f    Michael   20.0\n",
      "g    Matthew   14.5\n",
      "h      Laura    NaN\n",
      "i      Kevin    8.0\n",
      "j      Jonas   19.0\n"
     ]
    }
   ],
   "source": [
    "def main():\n",
    "    exam_data = {\n",
    "        'name': ['Anastasia', 'Dima', 'Katherine', 'James', 'Emily', 'Michael', 'Matthew', \n",
    "                 'Laura', 'Kevin', 'Jonas'],\n",
    "        'score': [12.5, 9, 16.5, np.nan, 9, 20, 14.5, np.nan, 8, 19],\n",
    "        'attempts': [1, 3, 2, 3, 2, 3, 1, 1, 2, 1],\n",
    "        'qualify': ['yes', 'no', 'yes', 'no', 'no', 'yes', 'yes', 'no', 'no', 'yes']\n",
    "    }\n",
    "\n",
    "    index_labels = ['a', 'b', 'c', 'd', 'e', 'f', 'g', 'h', 'i', 'j']\n",
    "    exam_data_df = pd.DataFrame(exam_data, index = index_labels)\n",
    "    print(f\"\\nThe 'name' and 'score' column of dataframe is: \\n\\n{exam_data_df[['name', 'score']]}\")\n",
    "\n",
    "\n",
    "if __name__ == \"__main__\":\n",
    "    main()"
   ]
  },
  {
   "cell_type": "markdown",
   "id": "58b34941-16e4-45f3-a3c6-80f52d7c4908",
   "metadata": {},
   "source": [
    "## Q9\n",
    "Python program to select the specified columns and rows from a given dataframe.<br>\n",
    "Select 'name' and 'score' columns in rows 1, 3, 5, 6 from the following data frame."
   ]
  },
  {
   "cell_type": "code",
   "execution_count": 3,
   "id": "964af16e-f8b4-48d3-a378-e17f27a9d29a",
   "metadata": {},
   "outputs": [
    {
     "name": "stdout",
     "output_type": "stream",
     "text": [
      "\n",
      "The 'name' and 'score' column of dataframe is: \n",
      "\n",
      "      name  score\n",
      "b     Dima    9.0\n",
      "d    James    NaN\n",
      "f  Michael   20.0\n",
      "g  Matthew   14.5\n"
     ]
    }
   ],
   "source": [
    "def main():\n",
    "    exam_data = {\n",
    "        'name': ['Anastasia', 'Dima', 'Katherine', 'James', 'Emily', 'Michael', 'Matthew', \n",
    "                 'Laura', 'Kevin', 'Jonas'],\n",
    "        'score': [12.5, 9, 16.5, np.nan, 9, 20, 14.5, np.nan, 8, 19],\n",
    "        'attempts': [1, 3, 2, 3, 2, 3, 1, 1, 2, 1],\n",
    "        'qualify': ['yes', 'no', 'yes', 'no', 'no', 'yes', 'yes', 'no', 'no', 'yes']\n",
    "    }\n",
    "\n",
    "    index_labels = ['a', 'b', 'c', 'd', 'e', 'f', 'g', 'h', 'i', 'j']\n",
    "    exam_data_df = pd.DataFrame(exam_data, index = index_labels)\n",
    "    result = exam_data_df.loc[['b', 'd', 'f', 'g'], ['name', 'score']]\n",
    "    print(f\"\\nThe 'name' and 'score' column of dataframe is: \\n\\n{result}\")\n",
    "\n",
    "\n",
    "if __name__ == \"__main__\":\n",
    "    main()"
   ]
  },
  {
   "cell_type": "markdown",
   "id": "50edeca2",
   "metadata": {},
   "source": [
    "## Q10\n",
    "Python program to select the rows where the number of attempts in the examination is greater than 2"
   ]
  },
  {
   "cell_type": "code",
   "execution_count": 5,
   "id": "a7ccba16",
   "metadata": {},
   "outputs": [
    {
     "name": "stdout",
     "output_type": "stream",
     "text": [
      "\n",
      "The 'name' and 'score' column of dataframe is: \n",
      "\n",
      "      name  score  attempts qualify\n",
      "b     Dima    9.0         3      no\n",
      "d    James    NaN         3      no\n",
      "f  Michael   20.0         3     yes\n"
     ]
    }
   ],
   "source": [
    "def main():\n",
    "    exam_data = {\n",
    "        'name': ['Anastasia', 'Dima', 'Katherine', 'James', 'Emily', 'Michael', 'Matthew', \n",
    "                 'Laura', 'Kevin', 'Jonas'],\n",
    "        'score': [12.5, 9, 16.5, np.nan, 9, 20, 14.5, np.nan, 8, 19],\n",
    "        'attempts': [1, 3, 2, 3, 2, 3, 1, 1, 2, 1],\n",
    "        'qualify': ['yes', 'no', 'yes', 'no', 'no', 'yes', 'yes', 'no', 'no', 'yes']\n",
    "    }\n",
    "\n",
    "    index_labels = ['a', 'b', 'c', 'd', 'e', 'f', 'g', 'h', 'i', 'j']\n",
    "    exam_data_df = pd.DataFrame(exam_data, index = index_labels)\n",
    "    result = exam_data_df.loc[exam_data_df['attempts'] > 2]\n",
    "    print(f\"\\nThe 'name' and 'score' column of dataframe is: \\n\\n{result}\")\n",
    "\n",
    "\n",
    "if __name__ == \"__main__\":\n",
    "    main()"
   ]
  }
 ],
 "metadata": {
  "kernelspec": {
   "display_name": "Python 3 (ipykernel)",
   "language": "python",
   "name": "python3"
  },
  "language_info": {
   "codemirror_mode": {
    "name": "ipython",
    "version": 3
   },
   "file_extension": ".py",
   "mimetype": "text/x-python",
   "name": "python",
   "nbconvert_exporter": "python",
   "pygments_lexer": "ipython3",
   "version": "3.10.12"
  }
 },
 "nbformat": 4,
 "nbformat_minor": 5
}
