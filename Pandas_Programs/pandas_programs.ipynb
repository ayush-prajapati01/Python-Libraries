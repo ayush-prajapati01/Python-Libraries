{
 "cells": [
  {
   "cell_type": "markdown",
   "id": "b79bb789-3113-42ca-b25f-344405640a6e",
   "metadata": {},
   "source": [
    "'''\n",
    "<br>\n",
    "@Author: Ayush Prajapati<br>\n",
    "@Date: 07-07-2024<br>\n",
    "@Last Modified by: Ayush Prajapati<br>\n",
    "@Last Modified time: 07-07-2024<br>\n",
    "@Title: Python Programs on Pandas Library\n",
    "<br>\n",
    "'''"
   ]
  },
  {
   "cell_type": "code",
   "execution_count": 3,
   "id": "f55cf03e-c54b-42da-ab2b-8987581cbc65",
   "metadata": {},
   "outputs": [],
   "source": [
    "import numpy as np\n",
    "import pandas as pd"
   ]
  },
  {
   "cell_type": "markdown",
   "id": "7fc8c3ec-0287-4098-b945-a2349ddfbf75",
   "metadata": {},
   "source": [
    "## Q1\n",
    "Python program to create and display a one-dimensional array-like object\n",
    "containing an array of data using Pandas module."
   ]
  },
  {
   "cell_type": "code",
   "execution_count": 15,
   "id": "e8f097db-9ff2-463d-9eb1-277603424a1d",
   "metadata": {},
   "outputs": [
    {
     "name": "stdout",
     "output_type": "stream",
     "text": [
      "The orignal array is ['C++' 'Java' 'Python' 'Rust']\n",
      "The pandas series is \n",
      "0       C++\n",
      "1      Java\n",
      "2    Python\n",
      "3      Rust\n",
      "dtype: object\n"
     ]
    }
   ],
   "source": [
    "def main():\n",
    "    languages = np.array(['C++', 'Java', 'Python', 'Rust'])\n",
    "    print(f\"The orignal array is {languages}\")\n",
    "    languages_series = pd.Series(languages)\n",
    "    print(f\"The pandas series is \\n{languages_series}\")\n",
    "\n",
    "\n",
    "if __name__ == \"__main__\":\n",
    "    main()"
   ]
  },
  {
   "cell_type": "code",
   "execution_count": null,
   "id": "5e20eb6c-887f-4dbe-8eeb-8ab200279dc1",
   "metadata": {},
   "outputs": [],
   "source": []
  }
 ],
 "metadata": {
  "kernelspec": {
   "display_name": "Python 3 (ipykernel)",
   "language": "python",
   "name": "python3"
  },
  "language_info": {
   "codemirror_mode": {
    "name": "ipython",
    "version": 3
   },
   "file_extension": ".py",
   "mimetype": "text/x-python",
   "name": "python",
   "nbconvert_exporter": "python",
   "pygments_lexer": "ipython3",
   "version": "3.10.12"
  }
 },
 "nbformat": 4,
 "nbformat_minor": 5
}
