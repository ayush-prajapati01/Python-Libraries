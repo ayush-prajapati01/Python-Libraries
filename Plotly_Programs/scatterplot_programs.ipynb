{
 "cells": [
  {
   "cell_type": "markdown",
   "metadata": {},
   "source": [
    "'''\n",
    "<br>\n",
    "    @Author: Ayush Prajapati<br>\n",
    "    @Date: 13-08-2024<br>\n",
    "    @Last Modified by: Ayush Prajapati<br>\n",
    "    @Last Modified time: 13-08-2024 <br>\n",
    "    @Title : Python program using Plotly Library<br>\n",
    "<br>\n",
    "'''\n"
   ]
  },
  {
   "cell_type": "code",
   "execution_count": null,
   "metadata": {},
   "outputs": [],
   "source": [
    "import plotly.express as px\n",
    "import numpy as np\n",
    "import pandas as pd\n",
    "from logger import create_logger"
   ]
  },
  {
   "cell_type": "markdown",
   "metadata": {},
   "source": []
  }
 ],
 "metadata": {
  "language_info": {
   "name": "python"
  }
 },
 "nbformat": 4,
 "nbformat_minor": 2
}
