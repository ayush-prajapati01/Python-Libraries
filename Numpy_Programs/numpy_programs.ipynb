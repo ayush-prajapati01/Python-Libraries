{
 "cells": [
  {
   "cell_type": "markdown",
   "metadata": {},
   "source": [
    "'''<br><br>\n",
    "    @Author: Ayush Prajapati <br>\n",
    "    @Date: 06-07-2024 <br>\n",
    "    @Last Modified by: Ayush Prajapati <br>\n",
    "    @Last Modified time: 07-07-2024 <br>\n",
    "    @Title: Python Programs on Numpy Library\n",
    "<br><br>\n",
    "'''"
   ]
  },
  {
   "cell_type": "code",
   "execution_count": 2,
   "metadata": {},
   "outputs": [],
   "source": [
    "import numpy as np"
   ]
  },
  {
   "cell_type": "markdown",
   "metadata": {},
   "source": [
    "## Q1\n",
    "Python program to convert a list of numeric value into a one-dimensional NumPy array"
   ]
  },
  {
   "cell_type": "code",
   "execution_count": 3,
   "metadata": {},
   "outputs": [],
   "source": [
    "def main():\n",
    "    n = int(input(\"Enter number of element in the list: \"))\n",
    "    num_list = []\n",
    "    for index in range(n):\n",
    "        num_list.append(float(input(f\"Enter {index+1} element: \")))\n",
    "\n",
    "    print(f\"The orignal list is: {num_list}\")\n",
    "    arr = np.array(num_list)\n",
    "    print(f\"The converted {arr} is of type {type(arr)} \")"
   ]
  },
  {
   "cell_type": "code",
   "execution_count": 4,
   "metadata": {},
   "outputs": [
    {
     "name": "stdout",
     "output_type": "stream",
     "text": [
      "The orignal list is: [1.0, 2.0, 3.0, 4.0, 5.0]\n",
      "The converted [1. 2. 3. 4. 5.] is of type <class 'numpy.ndarray'> \n"
     ]
    }
   ],
   "source": [
    "if __name__ == \"__main__\":\n",
    "    main()"
   ]
  }
 ],
 "metadata": {
  "kernelspec": {
   "display_name": "Python 3",
   "language": "python",
   "name": "python3"
  },
  "language_info": {
   "codemirror_mode": {
    "name": "ipython",
    "version": 3
   },
   "file_extension": ".py",
   "mimetype": "text/x-python",
   "name": "python",
   "nbconvert_exporter": "python",
   "pygments_lexer": "ipython3",
   "version": "3.10.12"
  }
 },
 "nbformat": 4,
 "nbformat_minor": 2
}
