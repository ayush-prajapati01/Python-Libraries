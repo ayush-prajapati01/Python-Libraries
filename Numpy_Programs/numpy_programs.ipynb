{
 "cells": [
  {
   "cell_type": "markdown",
   "metadata": {},
   "source": [
    "'''<br><br>\n",
    "    @Author: Ayush Prajapati <br>\n",
    "    @Date: 06-07-2024 <br>\n",
    "    @Last Modified by: Ayush Prajapati <br>\n",
    "    @Last Modified time: 07-07-2024 <br>\n",
    "    @Title: Python Programs on Numpy Library\n",
    "<br><br>\n",
    "'''"
   ]
  },
  {
   "cell_type": "code",
   "execution_count": 3,
   "metadata": {},
   "outputs": [],
   "source": [
    "import numpy as np"
   ]
  },
  {
   "cell_type": "markdown",
   "metadata": {},
   "source": [
    "## Q1\n",
    "Python program to convert a list of numeric value into a one-dimensional NumPy array"
   ]
  },
  {
   "cell_type": "code",
   "execution_count": 3,
   "metadata": {},
   "outputs": [],
   "source": [
    "def main():\n",
    "    n = int(input(\"Enter number of element in the list: \"))\n",
    "    num_list = []\n",
    "    for index in range(n):\n",
    "        num_list.append(float(input(f\"Enter {index+1} element: \")))\n",
    "\n",
    "    print(f\"The orignal list is: {num_list}\")\n",
    "    arr = np.array(num_list)\n",
    "    print(f\"The converted {arr} is of type {type(arr)} \")"
   ]
  },
  {
   "cell_type": "code",
   "execution_count": 4,
   "metadata": {},
   "outputs": [
    {
     "name": "stdout",
     "output_type": "stream",
     "text": [
      "The orignal list is: [1.0, 2.0, 3.0, 4.0, 5.0]\n",
      "The converted [1. 2. 3. 4. 5.] is of type <class 'numpy.ndarray'> \n"
     ]
    }
   ],
   "source": [
    "if __name__ == \"__main__\":\n",
    "    main()"
   ]
  },
  {
   "cell_type": "markdown",
   "metadata": {},
   "source": [
    "## Q2\n",
    "Python program to create a 3x3 matrix with values ranging from 2 to 10."
   ]
  },
  {
   "cell_type": "code",
   "execution_count": 5,
   "metadata": {},
   "outputs": [],
   "source": [
    "def main():\n",
    "    arr = np.array([x for x in range(2, 11)])\n",
    "    print(arr.reshape(3,3))"
   ]
  },
  {
   "cell_type": "code",
   "execution_count": 6,
   "metadata": {},
   "outputs": [
    {
     "name": "stdout",
     "output_type": "stream",
     "text": [
      "[[ 2  3  4]\n",
      " [ 5  6  7]\n",
      " [ 8  9 10]]\n"
     ]
    }
   ],
   "source": [
    "if __name__ == \"__main__\":\n",
    "    main()"
   ]
  },
  {
   "cell_type": "markdown",
   "metadata": {},
   "source": [
    "## Q3\n",
    "Python program to create a null vector of size 10 and update sixth value to 11."
   ]
  },
  {
   "cell_type": "code",
   "execution_count": 4,
   "metadata": {},
   "outputs": [],
   "source": [
    "def main():\n",
    "    arr = np.array([0 for _ in range(10)], dtype = 'float')\n",
    "    print(f\"The orignal array is {arr}\")\n",
    "    arr[5] = 11\n",
    "    print(f\"The updated array is {arr}\")"
   ]
  },
  {
   "cell_type": "code",
   "execution_count": 5,
   "metadata": {},
   "outputs": [
    {
     "name": "stdout",
     "output_type": "stream",
     "text": [
      "The orignal array is [0. 0. 0. 0. 0. 0. 0. 0. 0. 0.]\n",
      "The updated array is [ 0.  0.  0.  0.  0. 11.  0.  0.  0.  0.]\n"
     ]
    }
   ],
   "source": [
    "if __name__ == \"__main__\":\n",
    "    main()"
   ]
  },
  {
   "cell_type": "markdown",
   "metadata": {},
   "source": [
    "## Q4\n",
    "Python program to reverse an array"
   ]
  },
  {
   "cell_type": "code",
   "execution_count": 6,
   "metadata": {},
   "outputs": [],
   "source": [
    "def reverse_array(arr):\n",
    "    \"\"\"\n",
    "    Description:\n",
    "        This function reverses the array\n",
    "    Parameters:\n",
    "        arr: Num array\n",
    "    Return:\n",
    "        arr: Rreversed Array\n",
    "    \"\"\"\n",
    "    start = 0\n",
    "    temp = 0\n",
    "    end = len(arr) - 1\n",
    "    while start < end:\n",
    "        temp = arr[start]\n",
    "        arr[start] = arr[end]\n",
    "        arr[end] = temp\n",
    "\n",
    "        start += 1\n",
    "        end -= 1\n",
    "\n",
    "    return arr"
   ]
  },
  {
   "cell_type": "code",
   "execution_count": 7,
   "metadata": {},
   "outputs": [],
   "source": [
    "def main():\n",
    "    n = int(input(\"Enter number of elements in the array: \"))\n",
    "    num_list = []\n",
    "    for index in range(n):\n",
    "        num_list.append(int(input(f\"Enter {index+1} element: \")))\n",
    "        \n",
    "    arr = np.array(num_list)\n",
    "    print(f\"\\nThe orignal array is {arr}\")\n",
    "    print(f\"\\nThe reversed array is {reverse_array(arr)}\")"
   ]
  },
  {
   "cell_type": "code",
   "execution_count": 8,
   "metadata": {},
   "outputs": [
    {
     "name": "stdout",
     "output_type": "stream",
     "text": [
      "\n",
      "The orignal array is [1 2 3 4 5]\n",
      "\n",
      "The reversed array is [5 4 3 2 1]\n"
     ]
    }
   ],
   "source": [
    "if __name__ == \"__main__\":\n",
    "    main()"
   ]
  }
 ],
 "metadata": {
  "kernelspec": {
   "display_name": "Python 3",
   "language": "python",
   "name": "python3"
  },
  "language_info": {
   "codemirror_mode": {
    "name": "ipython",
    "version": 3
   },
   "file_extension": ".py",
   "mimetype": "text/x-python",
   "name": "python",
   "nbconvert_exporter": "python",
   "pygments_lexer": "ipython3",
   "version": "3.10.12"
  }
 },
 "nbformat": 4,
 "nbformat_minor": 2
}
