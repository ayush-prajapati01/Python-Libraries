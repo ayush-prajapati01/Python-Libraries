{
 "cells": [
  {
   "cell_type": "markdown",
   "metadata": {},
   "source": [
    "'''<br><br>\n",
    "    @Author: Ayush Prajapati <br>\n",
    "    @Date: 06-07-2024 <br>\n",
    "    @Last Modified by: Ayush Prajapati <br>\n",
    "    @Last Modified time: 07-07-2024 <br>\n",
    "    @Title: Python Programs on Numpy Library\n",
    "<br><br>\n",
    "'''"
   ]
  },
  {
   "cell_type": "code",
   "execution_count": 3,
   "metadata": {},
   "outputs": [],
   "source": [
    "import numpy as np"
   ]
  },
  {
   "cell_type": "markdown",
   "metadata": {},
   "source": [
    "## Q1\n",
    "Python program to convert a list of numeric value into a one-dimensional NumPy array"
   ]
  },
  {
   "cell_type": "code",
   "execution_count": 3,
   "metadata": {},
   "outputs": [],
   "source": [
    "def main():\n",
    "    n = int(input(\"Enter number of element in the list: \"))\n",
    "    num_list = []\n",
    "    for index in range(n):\n",
    "        num_list.append(float(input(f\"Enter {index+1} element: \")))\n",
    "\n",
    "    print(f\"The orignal list is: {num_list}\")\n",
    "    arr = np.array(num_list)\n",
    "    print(f\"The converted {arr} is of type {type(arr)} \")"
   ]
  },
  {
   "cell_type": "code",
   "execution_count": 4,
   "metadata": {},
   "outputs": [
    {
     "name": "stdout",
     "output_type": "stream",
     "text": [
      "The orignal list is: [1.0, 2.0, 3.0, 4.0, 5.0]\n",
      "The converted [1. 2. 3. 4. 5.] is of type <class 'numpy.ndarray'> \n"
     ]
    }
   ],
   "source": [
    "if __name__ == \"__main__\":\n",
    "    main()"
   ]
  },
  {
   "cell_type": "markdown",
   "metadata": {},
   "source": [
    "## Q2\n",
    "Python program to create a 3x3 matrix with values ranging from 2 to 10."
   ]
  },
  {
   "cell_type": "code",
   "execution_count": 5,
   "metadata": {},
   "outputs": [],
   "source": [
    "def main():\n",
    "    arr = np.array([x for x in range(2, 11)])\n",
    "    print(arr.reshape(3,3))"
   ]
  },
  {
   "cell_type": "code",
   "execution_count": 6,
   "metadata": {},
   "outputs": [
    {
     "name": "stdout",
     "output_type": "stream",
     "text": [
      "[[ 2  3  4]\n",
      " [ 5  6  7]\n",
      " [ 8  9 10]]\n"
     ]
    }
   ],
   "source": [
    "if __name__ == \"__main__\":\n",
    "    main()"
   ]
  },
  {
   "cell_type": "markdown",
   "metadata": {},
   "source": [
    "## Q3\n",
    "Python program to create a null vector of size 10 and update sixth value to 11."
   ]
  },
  {
   "cell_type": "code",
   "execution_count": 4,
   "metadata": {},
   "outputs": [],
   "source": [
    "def main():\n",
    "    arr = np.array([0 for _ in range(10)], dtype = 'float')\n",
    "    print(f\"The orignal array is {arr}\")\n",
    "    arr[5] = 11\n",
    "    print(f\"The updated array is {arr}\")"
   ]
  },
  {
   "cell_type": "code",
   "execution_count": 5,
   "metadata": {},
   "outputs": [
    {
     "name": "stdout",
     "output_type": "stream",
     "text": [
      "The orignal array is [0. 0. 0. 0. 0. 0. 0. 0. 0. 0.]\n",
      "The updated array is [ 0.  0.  0.  0.  0. 11.  0.  0.  0.  0.]\n"
     ]
    }
   ],
   "source": [
    "if __name__ == \"__main__\":\n",
    "    main()"
   ]
  },
  {
   "cell_type": "markdown",
   "metadata": {},
   "source": [
    "## Q4\n",
    "Python program to reverse an array"
   ]
  },
  {
   "cell_type": "code",
   "execution_count": 6,
   "metadata": {},
   "outputs": [],
   "source": [
    "def reverse_array(arr):\n",
    "    \"\"\"\n",
    "    Description:\n",
    "        This function reverses the array\n",
    "    Parameters:\n",
    "        arr: Num array\n",
    "    Return:\n",
    "        arr: Rreversed Array\n",
    "    \"\"\"\n",
    "    start = 0\n",
    "    temp = 0\n",
    "    end = len(arr) - 1\n",
    "    while start < end:\n",
    "        temp = arr[start]\n",
    "        arr[start] = arr[end]\n",
    "        arr[end] = temp\n",
    "\n",
    "        start += 1\n",
    "        end -= 1\n",
    "\n",
    "    return arr"
   ]
  },
  {
   "cell_type": "code",
   "execution_count": 7,
   "metadata": {},
   "outputs": [],
   "source": [
    "def main():\n",
    "    n = int(input(\"Enter number of elements in the array: \"))\n",
    "    num_list = []\n",
    "    for index in range(n):\n",
    "        num_list.append(int(input(f\"Enter {index+1} element: \")))\n",
    "        \n",
    "    arr = np.array(num_list)\n",
    "    print(f\"\\nThe orignal array is {arr}\")\n",
    "    print(f\"\\nThe reversed array is {reverse_array(arr)}\")"
   ]
  },
  {
   "cell_type": "code",
   "execution_count": 8,
   "metadata": {},
   "outputs": [
    {
     "name": "stdout",
     "output_type": "stream",
     "text": [
      "\n",
      "The orignal array is [1 2 3 4 5]\n",
      "\n",
      "The reversed array is [5 4 3 2 1]\n"
     ]
    }
   ],
   "source": [
    "if __name__ == \"__main__\":\n",
    "    main()"
   ]
  },
  {
   "cell_type": "markdown",
   "metadata": {},
   "source": [
    "## Q5\n",
    "Python program to create a 2d array with 1 on the border and 0 inside."
   ]
  },
  {
   "cell_type": "code",
   "execution_count": 9,
   "metadata": {},
   "outputs": [],
   "source": [
    "def print_pattern(arr):\n",
    "    \"\"\"\n",
    "    Description: \n",
    "        This function creates an array with 1 on the border and 0 inside. \n",
    "    Parameters:\n",
    "        arr: orignal array\n",
    "    Return:\n",
    "        arr\n",
    "    \"\"\"\n",
    "    for row in range(len(arr)):\n",
    "        for column in range(len(arr[0])):\n",
    "            if row == 0 or column == 0 or row == (len(arr) - 1) or column == (len(arr[0]) - 1):\n",
    "                pass\n",
    "            else:\n",
    "                arr[row, column] = 0\n",
    "    return arr"
   ]
  },
  {
   "cell_type": "code",
   "execution_count": 10,
   "metadata": {},
   "outputs": [],
   "source": [
    "def main():\n",
    "    arr = np.array([1 for _ in range(25)])\n",
    "    arr = arr.reshape(5,5)\n",
    "    print(f\"The orignal array is \\n{arr}\")\n",
    "    print(f\"\\nThe updated array is \\n{print_pattern(arr)}\")"
   ]
  },
  {
   "cell_type": "code",
   "execution_count": 11,
   "metadata": {},
   "outputs": [
    {
     "name": "stdout",
     "output_type": "stream",
     "text": [
      "The orignal array is \n",
      "[[1 1 1 1 1]\n",
      " [1 1 1 1 1]\n",
      " [1 1 1 1 1]\n",
      " [1 1 1 1 1]\n",
      " [1 1 1 1 1]]\n",
      "\n",
      "The updated array is \n",
      "[[1 1 1 1 1]\n",
      " [1 0 0 0 1]\n",
      " [1 0 0 0 1]\n",
      " [1 0 0 0 1]\n",
      " [1 1 1 1 1]]\n"
     ]
    }
   ],
   "source": [
    "if __name__ == \"__main__\":\n",
    "    main()"
   ]
  },
  {
   "cell_type": "markdown",
   "metadata": {},
   "source": [
    "## Q6\n",
    "Python program to add a border (filled with 0's) around an existing array."
   ]
  },
  {
   "cell_type": "code",
   "execution_count": 13,
   "metadata": {},
   "outputs": [],
   "source": [
    "def add_border(arr):\n",
    "    \"\"\"\n",
    "    Description: \n",
    "        This function used to add border(0's) to an existing array\n",
    "    Parameters:\n",
    "        arr: array to be updated\n",
    "    Return:\n",
    "        arr\n",
    "    \"\"\"\n",
    "    rows, cols = arr.shape\n",
    "    bordered_array = np.zeros((rows + 2, cols + 2))\n",
    "    bordered_array[1:-1, 1:-1] = arr\n",
    "    return bordered_array"
   ]
  },
  {
   "cell_type": "code",
   "execution_count": 14,
   "metadata": {},
   "outputs": [],
   "source": [
    "def main():\n",
    "    arr = np.array([1 for _ in range(9)])\n",
    "    arr = arr.reshape(3,3)\n",
    "    print(f\"The orignal array is \\n{arr}\")\n",
    "    print(f\"\\nThe updated array is \\n{add_border(arr)}\")"
   ]
  },
  {
   "cell_type": "code",
   "execution_count": 15,
   "metadata": {},
   "outputs": [
    {
     "name": "stdout",
     "output_type": "stream",
     "text": [
      "The orignal array is \n",
      "[[1 1 1]\n",
      " [1 1 1]\n",
      " [1 1 1]]\n",
      "\n",
      "The updated array is \n",
      "[[0. 0. 0. 0. 0.]\n",
      " [0. 1. 1. 1. 0.]\n",
      " [0. 1. 1. 1. 0.]\n",
      " [0. 1. 1. 1. 0.]\n",
      " [0. 0. 0. 0. 0.]]\n"
     ]
    }
   ],
   "source": [
    "if __name__ == \"__main__\":\n",
    "    main()"
   ]
  },
  {
   "cell_type": "markdown",
   "metadata": {},
   "source": [
    "## Q7\n",
    "Python program to create a 8x8 matrix and fill it with a checkerboard pattern."
   ]
  },
  {
   "cell_type": "code",
   "execution_count": 16,
   "metadata": {},
   "outputs": [],
   "source": [
    "def main():\n",
    "    checkerboard = np.array([[(i + j) % 2 for j in range(8)] for i in range(8)])\n",
    "    print(f\"The checkerboard array is \\n{checkerboard}\")"
   ]
  },
  {
   "cell_type": "code",
   "execution_count": 17,
   "metadata": {},
   "outputs": [
    {
     "name": "stdout",
     "output_type": "stream",
     "text": [
      "The checkerboard array is \n",
      "[[0 1 0 1 0 1 0 1]\n",
      " [1 0 1 0 1 0 1 0]\n",
      " [0 1 0 1 0 1 0 1]\n",
      " [1 0 1 0 1 0 1 0]\n",
      " [0 1 0 1 0 1 0 1]\n",
      " [1 0 1 0 1 0 1 0]\n",
      " [0 1 0 1 0 1 0 1]\n",
      " [1 0 1 0 1 0 1 0]]\n"
     ]
    }
   ],
   "source": [
    "if __name__ == \"__main__\":\n",
    "    main()"
   ]
  },
  {
   "cell_type": "markdown",
   "metadata": {},
   "source": [
    "## Q8\n",
    "Python program to convert a list and tuple into arrays."
   ]
  },
  {
   "cell_type": "code",
   "execution_count": 18,
   "metadata": {},
   "outputs": [],
   "source": [
    "def main():\n",
    "    num_list = [1, 2, 3, 4, 5, 6, 7, 8]\n",
    "    num_tuple = (1, 2, 3, 4, 5, 6, 7, 8)\n",
    "    lst_to_arr = np.array(num_list)\n",
    "    lst_to_tuple = np.array(num_tuple).reshape(2,4)\n",
    "    print(f\"The converted array from list is {lst_to_arr} and from tupple is, \\n{lst_to_tuple}\")"
   ]
  },
  {
   "cell_type": "code",
   "execution_count": 19,
   "metadata": {},
   "outputs": [
    {
     "name": "stdout",
     "output_type": "stream",
     "text": [
      "The converted array from list is [1 2 3 4 5 6 7 8] and from tupple is, \n",
      "[[1 2 3 4]\n",
      " [5 6 7 8]]\n"
     ]
    }
   ],
   "source": [
    "if __name__ == \"__main__\":\n",
    "    main()"
   ]
  },
  {
   "cell_type": "markdown",
   "metadata": {},
   "source": [
    "## Q9\n",
    "Python program to append values to the end of an array."
   ]
  },
  {
   "cell_type": "code",
   "execution_count": 20,
   "metadata": {},
   "outputs": [],
   "source": [
    "def main():\n",
    "    n = int(input(\"Enter number of elements in the orignal array\"))\n",
    "    arr = np.array([(int(input(f\"Enter {i+1} element: \"))) for i in range(n)])\n",
    "    print(f\"The orignal array is {arr}\")\n",
    "    n = int(input(\"\\nEnter number of elements to append: \"))\n",
    "    values_to_append = [(int(input(f\"Enter {i+1} element: \"))) for i in range(n)]\n",
    "    arr = np.append(arr, values_to_append)\n",
    "    print(f\"The updated array is {arr}\")"
   ]
  },
  {
   "cell_type": "code",
   "execution_count": 21,
   "metadata": {},
   "outputs": [
    {
     "name": "stdout",
     "output_type": "stream",
     "text": [
      "The orignal array is [1 2 3 4]\n",
      "The updated array is [ 1  2  3  4 78 21]\n"
     ]
    }
   ],
   "source": [
    "if __name__ == \"__main__\":\n",
    "    main()"
   ]
  },
  {
   "cell_type": "markdown",
   "metadata": {},
   "source": [
    "## Q10\n",
    "Python program to find the real and imaginary parts of an array of complex numbers."
   ]
  },
  {
   "cell_type": "code",
   "execution_count": 22,
   "metadata": {},
   "outputs": [],
   "source": [
    "def main():\n",
    "    complex_nums = np.array([1 + 2j, 3 + 1j])\n",
    "    print(f\"The array {complex_nums} is of type {complex_nums.dtype}\")\n",
    "    print(f\"The real part is {complex_nums.real} and imaginary part is {complex_nums.imag}\")"
   ]
  },
  {
   "cell_type": "code",
   "execution_count": 23,
   "metadata": {},
   "outputs": [
    {
     "name": "stdout",
     "output_type": "stream",
     "text": [
      "The array [1.+2.j 3.+1.j] is of type complex128\n",
      "The real part is [1. 3.] and imaginary part is [2. 1.]\n"
     ]
    }
   ],
   "source": [
    "if __name__ == \"__main__\":\n",
    "    main()"
   ]
  },
  {
   "cell_type": "markdown",
   "metadata": {},
   "source": [
    "## Q11\n",
    "Python program to find the number of elements of an array, length of one array element in bytes and total bytes consumed by the elements."
   ]
  },
  {
   "cell_type": "code",
   "execution_count": 24,
   "metadata": {},
   "outputs": [],
   "source": [
    "def main():\n",
    "    arr = np.array([[1, 2, 3], [1, 2, 3]], dtype = 'int32')\n",
    "    size_of_array = arr.size\n",
    "    size_of_element = arr.itemsize\n",
    "    \n",
    "    total_bytes = size_of_array * size_of_element\n",
    "    print(f\"Size of the array: {size_of_array}\")\n",
    "    print(f\"Length of one array element in bytes: {size_of_element}\")\n",
    "    print(f\"Total bytes consumed by the elements of the array: {total_bytes}\")"
   ]
  },
  {
   "cell_type": "code",
   "execution_count": 25,
   "metadata": {},
   "outputs": [
    {
     "name": "stdout",
     "output_type": "stream",
     "text": [
      "Size of the array: 6\n",
      "Length of one array element in bytes: 4\n",
      "Total bytes consumed by the elements of the array: 24\n"
     ]
    }
   ],
   "source": [
    "if __name__ == \"__main__\":\n",
    "    main()"
   ]
  }
 ],
 "metadata": {
  "kernelspec": {
   "display_name": "Python 3",
   "language": "python",
   "name": "python3"
  },
  "language_info": {
   "codemirror_mode": {
    "name": "ipython",
    "version": 3
   },
   "file_extension": ".py",
   "mimetype": "text/x-python",
   "name": "python",
   "nbconvert_exporter": "python",
   "pygments_lexer": "ipython3",
   "version": "3.10.12"
  }
 },
 "nbformat": 4,
 "nbformat_minor": 2
}
