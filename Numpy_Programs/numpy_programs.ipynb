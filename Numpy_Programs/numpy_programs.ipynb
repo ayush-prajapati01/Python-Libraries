{
 "cells": [
  {
   "cell_type": "markdown",
   "metadata": {},
   "source": [
    "'''<br><br>\n",
    "    @Author: Ayush Prajapati <br>\n",
    "    @Date: 06-07-2024 <br>\n",
    "    @Last Modified by: Ayush Prajapati <br>\n",
    "    @Last Modified time: 07-07-2024 <br>\n",
    "    @Title: Python Programs on Numpy Library\n",
    "<br><br>\n",
    "'''"
   ]
  },
  {
   "cell_type": "code",
   "execution_count": 3,
   "metadata": {},
   "outputs": [],
   "source": [
    "import numpy as np"
   ]
  },
  {
   "cell_type": "markdown",
   "metadata": {},
   "source": [
    "## Q1\n",
    "Python program to convert a list of numeric value into a one-dimensional NumPy array"
   ]
  },
  {
   "cell_type": "code",
   "execution_count": 3,
   "metadata": {},
   "outputs": [],
   "source": [
    "def main():\n",
    "    n = int(input(\"Enter number of element in the list: \"))\n",
    "    num_list = []\n",
    "    for index in range(n):\n",
    "        num_list.append(float(input(f\"Enter {index+1} element: \")))\n",
    "\n",
    "    print(f\"The orignal list is: {num_list}\")\n",
    "    arr = np.array(num_list)\n",
    "    print(f\"The converted {arr} is of type {type(arr)} \")"
   ]
  },
  {
   "cell_type": "code",
   "execution_count": 4,
   "metadata": {},
   "outputs": [
    {
     "name": "stdout",
     "output_type": "stream",
     "text": [
      "The orignal list is: [1.0, 2.0, 3.0, 4.0, 5.0]\n",
      "The converted [1. 2. 3. 4. 5.] is of type <class 'numpy.ndarray'> \n"
     ]
    }
   ],
   "source": [
    "if __name__ == \"__main__\":\n",
    "    main()"
   ]
  },
  {
   "cell_type": "markdown",
   "metadata": {},
   "source": [
    "## Q2\n",
    "Python program to create a 3x3 matrix with values ranging from 2 to 10."
   ]
  },
  {
   "cell_type": "code",
   "execution_count": 5,
   "metadata": {},
   "outputs": [],
   "source": [
    "def main():\n",
    "    arr = np.array([x for x in range(2, 11)])\n",
    "    print(arr.reshape(3,3))"
   ]
  },
  {
   "cell_type": "code",
   "execution_count": 6,
   "metadata": {},
   "outputs": [
    {
     "name": "stdout",
     "output_type": "stream",
     "text": [
      "[[ 2  3  4]\n",
      " [ 5  6  7]\n",
      " [ 8  9 10]]\n"
     ]
    }
   ],
   "source": [
    "if __name__ == \"__main__\":\n",
    "    main()"
   ]
  },
  {
   "cell_type": "markdown",
   "metadata": {},
   "source": [
    "## Q3\n",
    "Python program to create a null vector of size 10 and update sixth value to 11."
   ]
  },
  {
   "cell_type": "code",
   "execution_count": 4,
   "metadata": {},
   "outputs": [],
   "source": [
    "def main():\n",
    "    arr = np.array([0 for _ in range(10)], dtype = 'float')\n",
    "    print(f\"The orignal array is {arr}\")\n",
    "    arr[5] = 11\n",
    "    print(f\"The updated array is {arr}\")"
   ]
  },
  {
   "cell_type": "code",
   "execution_count": 5,
   "metadata": {},
   "outputs": [
    {
     "name": "stdout",
     "output_type": "stream",
     "text": [
      "The orignal array is [0. 0. 0. 0. 0. 0. 0. 0. 0. 0.]\n",
      "The updated array is [ 0.  0.  0.  0.  0. 11.  0.  0.  0.  0.]\n"
     ]
    }
   ],
   "source": [
    "if __name__ == \"__main__\":\n",
    "    main()"
   ]
  },
  {
   "cell_type": "markdown",
   "metadata": {},
   "source": [
    "## Q4\n",
    "Python program to reverse an array"
   ]
  },
  {
   "cell_type": "code",
   "execution_count": 6,
   "metadata": {},
   "outputs": [],
   "source": [
    "def reverse_array(arr):\n",
    "    \"\"\"\n",
    "    Description:\n",
    "        This function reverses the array\n",
    "    Parameters:\n",
    "        arr: Num array\n",
    "    Return:\n",
    "        arr: Rreversed Array\n",
    "    \"\"\"\n",
    "    start = 0\n",
    "    temp = 0\n",
    "    end = len(arr) - 1\n",
    "    while start < end:\n",
    "        temp = arr[start]\n",
    "        arr[start] = arr[end]\n",
    "        arr[end] = temp\n",
    "\n",
    "        start += 1\n",
    "        end -= 1\n",
    "\n",
    "    return arr"
   ]
  },
  {
   "cell_type": "code",
   "execution_count": 7,
   "metadata": {},
   "outputs": [],
   "source": [
    "def main():\n",
    "    n = int(input(\"Enter number of elements in the array: \"))\n",
    "    num_list = []\n",
    "    for index in range(n):\n",
    "        num_list.append(int(input(f\"Enter {index+1} element: \")))\n",
    "        \n",
    "    arr = np.array(num_list)\n",
    "    print(f\"\\nThe orignal array is {arr}\")\n",
    "    print(f\"\\nThe reversed array is {reverse_array(arr)}\")"
   ]
  },
  {
   "cell_type": "code",
   "execution_count": 8,
   "metadata": {},
   "outputs": [
    {
     "name": "stdout",
     "output_type": "stream",
     "text": [
      "\n",
      "The orignal array is [1 2 3 4 5]\n",
      "\n",
      "The reversed array is [5 4 3 2 1]\n"
     ]
    }
   ],
   "source": [
    "if __name__ == \"__main__\":\n",
    "    main()"
   ]
  },
  {
   "cell_type": "markdown",
   "metadata": {},
   "source": [
    "## Q5\n",
    "Python program to create a 2d array with 1 on the border and 0 inside."
   ]
  },
  {
   "cell_type": "code",
   "execution_count": 9,
   "metadata": {},
   "outputs": [],
   "source": [
    "def print_pattern(arr):\n",
    "    \"\"\"\n",
    "    Description: \n",
    "        This function creates an array with 1 on the border and 0 inside. \n",
    "    Parameters:\n",
    "        arr: orignal array\n",
    "    Return:\n",
    "        arr\n",
    "    \"\"\"\n",
    "    for row in range(len(arr)):\n",
    "        for column in range(len(arr[0])):\n",
    "            if row == 0 or column == 0 or row == (len(arr) - 1) or column == (len(arr[0]) - 1):\n",
    "                pass\n",
    "            else:\n",
    "                arr[row, column] = 0\n",
    "    return arr"
   ]
  },
  {
   "cell_type": "code",
   "execution_count": 10,
   "metadata": {},
   "outputs": [],
   "source": [
    "def main():\n",
    "    arr = np.array([1 for _ in range(25)])\n",
    "    arr = arr.reshape(5,5)\n",
    "    print(f\"The orignal array is \\n{arr}\")\n",
    "    print(f\"\\nThe updated array is \\n{print_pattern(arr)}\")"
   ]
  },
  {
   "cell_type": "code",
   "execution_count": 11,
   "metadata": {},
   "outputs": [
    {
     "name": "stdout",
     "output_type": "stream",
     "text": [
      "The orignal array is \n",
      "[[1 1 1 1 1]\n",
      " [1 1 1 1 1]\n",
      " [1 1 1 1 1]\n",
      " [1 1 1 1 1]\n",
      " [1 1 1 1 1]]\n",
      "\n",
      "The updated array is \n",
      "[[1 1 1 1 1]\n",
      " [1 0 0 0 1]\n",
      " [1 0 0 0 1]\n",
      " [1 0 0 0 1]\n",
      " [1 1 1 1 1]]\n"
     ]
    }
   ],
   "source": [
    "if __name__ == \"__main__\":\n",
    "    main()"
   ]
  },
  {
   "cell_type": "markdown",
   "metadata": {},
   "source": [
    "## Q6\n",
    "Python program to add a border (filled with 0's) around an existing array."
   ]
  },
  {
   "cell_type": "code",
   "execution_count": 13,
   "metadata": {},
   "outputs": [],
   "source": [
    "def add_border(arr):\n",
    "    \"\"\"\n",
    "    Description: \n",
    "        This function used to add border(0's) to an existing array\n",
    "    Parameters:\n",
    "        arr: array to be updated\n",
    "    Return:\n",
    "        arr\n",
    "    \"\"\"\n",
    "    rows, cols = arr.shape\n",
    "    bordered_array = np.zeros((rows + 2, cols + 2))\n",
    "    bordered_array[1:-1, 1:-1] = arr\n",
    "    return bordered_array"
   ]
  },
  {
   "cell_type": "code",
   "execution_count": 14,
   "metadata": {},
   "outputs": [],
   "source": [
    "def main():\n",
    "    arr = np.array([1 for _ in range(9)])\n",
    "    arr = arr.reshape(3,3)\n",
    "    print(f\"The orignal array is \\n{arr}\")\n",
    "    print(f\"\\nThe updated array is \\n{add_border(arr)}\")"
   ]
  },
  {
   "cell_type": "code",
   "execution_count": 15,
   "metadata": {},
   "outputs": [
    {
     "name": "stdout",
     "output_type": "stream",
     "text": [
      "The orignal array is \n",
      "[[1 1 1]\n",
      " [1 1 1]\n",
      " [1 1 1]]\n",
      "\n",
      "The updated array is \n",
      "[[0. 0. 0. 0. 0.]\n",
      " [0. 1. 1. 1. 0.]\n",
      " [0. 1. 1. 1. 0.]\n",
      " [0. 1. 1. 1. 0.]\n",
      " [0. 0. 0. 0. 0.]]\n"
     ]
    }
   ],
   "source": [
    "if __name__ == \"__main__\":\n",
    "    main()"
   ]
  },
  {
   "cell_type": "markdown",
   "metadata": {},
   "source": [
    "## Q7\n",
    "Python program to create a 8x8 matrix and fill it with a checkerboard pattern."
   ]
  },
  {
   "cell_type": "code",
   "execution_count": 16,
   "metadata": {},
   "outputs": [],
   "source": [
    "def main():\n",
    "    checkerboard = np.array([[(i + j) % 2 for j in range(8)] for i in range(8)])\n",
    "    print(f\"The checkerboard array is \\n{checkerboard}\")"
   ]
  },
  {
   "cell_type": "code",
   "execution_count": 17,
   "metadata": {},
   "outputs": [
    {
     "name": "stdout",
     "output_type": "stream",
     "text": [
      "The checkerboard array is \n",
      "[[0 1 0 1 0 1 0 1]\n",
      " [1 0 1 0 1 0 1 0]\n",
      " [0 1 0 1 0 1 0 1]\n",
      " [1 0 1 0 1 0 1 0]\n",
      " [0 1 0 1 0 1 0 1]\n",
      " [1 0 1 0 1 0 1 0]\n",
      " [0 1 0 1 0 1 0 1]\n",
      " [1 0 1 0 1 0 1 0]]\n"
     ]
    }
   ],
   "source": [
    "if __name__ == \"__main__\":\n",
    "    main()"
   ]
  },
  {
   "cell_type": "markdown",
   "metadata": {},
   "source": [
    "## Q8\n",
    "Python program to convert a list and tuple into arrays."
   ]
  },
  {
   "cell_type": "code",
   "execution_count": 18,
   "metadata": {},
   "outputs": [],
   "source": [
    "def main():\n",
    "    num_list = [1, 2, 3, 4, 5, 6, 7, 8]\n",
    "    num_tuple = (1, 2, 3, 4, 5, 6, 7, 8)\n",
    "    lst_to_arr = np.array(num_list)\n",
    "    lst_to_tuple = np.array(num_tuple).reshape(2,4)\n",
    "    print(f\"The converted array from list is {lst_to_arr} and from tupple is, \\n{lst_to_tuple}\")"
   ]
  },
  {
   "cell_type": "code",
   "execution_count": 19,
   "metadata": {},
   "outputs": [
    {
     "name": "stdout",
     "output_type": "stream",
     "text": [
      "The converted array from list is [1 2 3 4 5 6 7 8] and from tupple is, \n",
      "[[1 2 3 4]\n",
      " [5 6 7 8]]\n"
     ]
    }
   ],
   "source": [
    "if __name__ == \"__main__\":\n",
    "    main()"
   ]
  },
  {
   "cell_type": "markdown",
   "metadata": {},
   "source": [
    "## Q9\n",
    "Python program to append values to the end of an array."
   ]
  },
  {
   "cell_type": "code",
   "execution_count": 20,
   "metadata": {},
   "outputs": [],
   "source": [
    "def main():\n",
    "    n = int(input(\"Enter number of elements in the orignal array\"))\n",
    "    arr = np.array([(int(input(f\"Enter {i+1} element: \"))) for i in range(n)])\n",
    "    print(f\"The orignal array is {arr}\")\n",
    "    n = int(input(\"\\nEnter number of elements to append: \"))\n",
    "    values_to_append = [(int(input(f\"Enter {i+1} element: \"))) for i in range(n)]\n",
    "    arr = np.append(arr, values_to_append)\n",
    "    print(f\"The updated array is {arr}\")"
   ]
  },
  {
   "cell_type": "code",
   "execution_count": 21,
   "metadata": {},
   "outputs": [
    {
     "name": "stdout",
     "output_type": "stream",
     "text": [
      "The orignal array is [1 2 3 4]\n",
      "The updated array is [ 1  2  3  4 78 21]\n"
     ]
    }
   ],
   "source": [
    "if __name__ == \"__main__\":\n",
    "    main()"
   ]
  },
  {
   "cell_type": "markdown",
   "metadata": {},
   "source": [
    "## Q10\n",
    "Python program to find the real and imaginary parts of an array of complex numbers."
   ]
  },
  {
   "cell_type": "code",
   "execution_count": 22,
   "metadata": {},
   "outputs": [],
   "source": [
    "def main():\n",
    "    complex_nums = np.array([1 + 2j, 3 + 1j])\n",
    "    print(f\"The array {complex_nums} is of type {complex_nums.dtype}\")\n",
    "    print(f\"The real part is {complex_nums.real} and imaginary part is {complex_nums.imag}\")"
   ]
  },
  {
   "cell_type": "code",
   "execution_count": 23,
   "metadata": {},
   "outputs": [
    {
     "name": "stdout",
     "output_type": "stream",
     "text": [
      "The array [1.+2.j 3.+1.j] is of type complex128\n",
      "The real part is [1. 3.] and imaginary part is [2. 1.]\n"
     ]
    }
   ],
   "source": [
    "if __name__ == \"__main__\":\n",
    "    main()"
   ]
  },
  {
   "cell_type": "markdown",
   "metadata": {},
   "source": [
    "## Q11\n",
    "Python program to find the number of elements of an array, length of one array element in bytes and total bytes consumed by the elements."
   ]
  },
  {
   "cell_type": "code",
   "execution_count": 24,
   "metadata": {},
   "outputs": [],
   "source": [
    "def main():\n",
    "    arr = np.array([[1, 2, 3], [1, 2, 3]], dtype = 'int32')\n",
    "    size_of_array = arr.size\n",
    "    size_of_element = arr.itemsize\n",
    "    \n",
    "    total_bytes = size_of_array * size_of_element\n",
    "    print(f\"Size of the array: {size_of_array}\")\n",
    "    print(f\"Length of one array element in bytes: {size_of_element}\")\n",
    "    print(f\"Total bytes consumed by the elements of the array: {total_bytes}\")"
   ]
  },
  {
   "cell_type": "code",
   "execution_count": 25,
   "metadata": {},
   "outputs": [
    {
     "name": "stdout",
     "output_type": "stream",
     "text": [
      "Size of the array: 6\n",
      "Length of one array element in bytes: 4\n",
      "Total bytes consumed by the elements of the array: 24\n"
     ]
    }
   ],
   "source": [
    "if __name__ == \"__main__\":\n",
    "    main()"
   ]
  },
  {
   "cell_type": "markdown",
   "metadata": {},
   "source": [
    "## Q12\n",
    "Python program to find common values between two arrays."
   ]
  },
  {
   "cell_type": "code",
   "execution_count": 26,
   "metadata": {},
   "outputs": [],
   "source": [
    "def common_element_array(arr1, arr2):\n",
    "    \"\"\"\n",
    "    Description: \n",
    "        This function used find common elements in two arrays\n",
    "    Parameters:\n",
    "        arr1, arr2: \n",
    "    Return:\n",
    "        list: common element list\n",
    "    \"\"\"\n",
    "    common_element = []\n",
    "    for element in arr1:\n",
    "        if element in arr2:\n",
    "            common_element.append(element)\n",
    " \n",
    "    return common_element"
   ]
  },
  {
   "cell_type": "code",
   "execution_count": 27,
   "metadata": {},
   "outputs": [],
   "source": [
    "def main():\n",
    "    n = int(input(\"Enter number of elements in the first array: \"))\n",
    "    arr1 = np.array([(int(input(f\"Enter {i+1} element: \"))) for i in range(n)])\n",
    "    print(f\"The first array is {arr1}\")\n",
    "    \n",
    "    n = int(input(\"\\nEnter number of elements in the second array: \"))\n",
    "    arr2 = [(int(input(f\"Enter {i+1} element: \"))) for i in range(n)]\n",
    "    print(f\"The second array is {arr2}\")\n",
    "    lst = common_element_array(arr1, arr2)\n",
    "    print(f\"\\nThe common elements are {common_element_array(arr1, arr2)}\")"
   ]
  },
  {
   "cell_type": "code",
   "execution_count": 28,
   "metadata": {},
   "outputs": [
    {
     "name": "stdout",
     "output_type": "stream",
     "text": [
      "The first array is [1 2 3 4 5]\n",
      "The second array is [1, 2, 7]\n",
      "\n",
      "The common elements are [1, 2]\n"
     ]
    }
   ],
   "source": [
    "if __name__ == \"__main__\":\n",
    "    main()"
   ]
  },
  {
   "cell_type": "markdown",
   "metadata": {},
   "source": [
    "## Q13\n",
    "Python program to find the set difference of two arrays."
   ]
  },
  {
   "cell_type": "code",
   "execution_count": 29,
   "metadata": {},
   "outputs": [],
   "source": [
    "def set_difference_array(arr1, arr2):\n",
    "    \"\"\"\n",
    "    Description: \n",
    "        This function used find set difference\n",
    "    Parameters:\n",
    "        arr1, arr2: \n",
    "    Return:\n",
    "        list: set difference\n",
    "    \"\"\"\n",
    "    set_diff = []\n",
    "    for element in arr1:\n",
    "        if element not in arr2:\n",
    "            set_diff.append(element)\n",
    " \n",
    "    return set_diff"
   ]
  },
  {
   "cell_type": "code",
   "execution_count": 32,
   "metadata": {},
   "outputs": [],
   "source": [
    "def main():\n",
    "    n = int(input(\"Enter number of elements in the first array: \"))\n",
    "    arr1 = np.array([(int(input(f\"Enter {i+1} element: \"))) for i in range(n)])\n",
    "    print(f\"The first array is {arr1}\")\n",
    "    \n",
    "    n = int(input(\"\\nEnter number of elements in the second array: \"))\n",
    "    arr2 = [(int(input(f\"Enter {i+1} element: \"))) for i in range(n)]\n",
    "    print(f\"The second array is {arr2}\")\n",
    "    lst = common_element_array(arr1, arr2)\n",
    "    print(f\"\\nThe set difference is: {set_difference_array(arr1, arr2)}\")"
   ]
  },
  {
   "cell_type": "code",
   "execution_count": 33,
   "metadata": {},
   "outputs": [
    {
     "name": "stdout",
     "output_type": "stream",
     "text": [
      "The first array is [ 0 10 20 40 60 80]\n",
      "The second array is [10, 30, 40, 50, 70, 90]\n",
      "\n",
      "The set difference is: [0, 20, 60, 80]\n"
     ]
    }
   ],
   "source": [
    "if __name__ == \"__main__\":\n",
    "    main()"
   ]
  },
  {
   "cell_type": "markdown",
   "metadata": {},
   "source": [
    "## Q14\n",
    "Python program to find the set exclusive-or of two arrays."
   ]
  },
  {
   "cell_type": "code",
   "execution_count": 37,
   "metadata": {},
   "outputs": [],
   "source": [
    "def main():\n",
    "    n = int(input(\"Enter number of elements in the first array: \"))\n",
    "    arr1 = np.array([(int(input(f\"Enter {i+1} element: \"))) for i in range(n)])\n",
    "    print(f\"The first array is {arr1}\")\n",
    "    \n",
    "    n = int(input(\"\\nEnter number of elements in the second array: \"))\n",
    "    arr2 = np.array([(int(input(f\"Enter {i+1} element: \"))) for i in range(n)])\n",
    "    print(f\"The second array is {arr2}\")\n",
    "\n",
    "    print(f\"\\nThe set exclusive-or of two arrays is {np.setxor1d(arr1, arr2)}\")"
   ]
  },
  {
   "cell_type": "code",
   "execution_count": 39,
   "metadata": {},
   "outputs": [
    {
     "name": "stdout",
     "output_type": "stream",
     "text": [
      "The first array is [ 0 10 20 40 60 80]\n",
      "The second array is [10 20 30 50 50 70]\n",
      "\n",
      "The set exclusive-or of two arrays is [ 0 30 40 50 60 70 80]\n"
     ]
    }
   ],
   "source": [
    "if __name__ == \"__main__\":\n",
    "    main()"
   ]
  },
  {
   "cell_type": "markdown",
   "metadata": {},
   "source": [
    "## Q15\n",
    "Python program compare two arrays using numpy."
   ]
  },
  {
   "cell_type": "code",
   "execution_count": 42,
   "metadata": {},
   "outputs": [],
   "source": [
    "def main():\n",
    "    n = int(input(\"Enter number of elements in the first array: \"))\n",
    "    arr1 = np.array([(int(input(f\"Enter {i+1} element: \"))) for i in range(n)])\n",
    "    print(f\"The first array is {arr1}\")\n",
    "    \n",
    "    n = int(input(\"\\nEnter number of elements in the second array: \"))\n",
    "    arr2 = np.array([(int(input(f\"Enter {i+1} element: \"))) for i in range(n)])\n",
    "    print(f\"The second array is {arr2}\")\n",
    "\n",
    "    print(f\"\\narr1 > arr2 : {arr1 > arr2}\")\n",
    "    print(f\"arr1 >= arr2 : {arr1 >= arr2}\")\n",
    "    print(f\"arr1 < arr2 : {arr1 < arr2}\")\n",
    "    print(f\"arr1 <= arr2 : {arr1 <= arr2}\")"
   ]
  },
  {
   "cell_type": "code",
   "execution_count": 43,
   "metadata": {},
   "outputs": [
    {
     "name": "stdout",
     "output_type": "stream",
     "text": [
      "The first array is [1 2]\n",
      "The second array is [4 5]\n",
      "\n",
      "arr1 > arr2 : [False False]\n",
      "arr1 >= arr2 : [False False]\n",
      "arr1 < arr2 : [ True  True]\n",
      "arr1 <= arr2 : [ True  True]\n"
     ]
    }
   ],
   "source": [
    "if __name__ == \"__main__\":\n",
    "    main()"
   ]
  },
  {
   "cell_type": "markdown",
   "metadata": {},
   "source": [
    "## Q16\n",
    "Python program to save a NumPy array to a text file."
   ]
  },
  {
   "cell_type": "code",
   "execution_count": 44,
   "metadata": {},
   "outputs": [],
   "source": [
    "def main():\n",
    "    n = int(input(\"Enter number of elements in the array: \"))\n",
    "    arr = np.array([(int(input(f\"Enter {i+1} element: \"))) for i in range(n)])\n",
    "    print(f\"The array is {arr}\")\n",
    "    print(\"Saving array in a text file.....\")\n",
    "    np.savetxt(\"my_array.txt\", arr)\n",
    "    print(\"Save Sucessful\")"
   ]
  },
  {
   "cell_type": "code",
   "execution_count": 45,
   "metadata": {},
   "outputs": [
    {
     "name": "stdout",
     "output_type": "stream",
     "text": [
      "The array is [1 2 3 4 5]\n",
      "Saving array in a text file.....\n",
      "Save Sucessful\n"
     ]
    }
   ],
   "source": [
    "if __name__ == \"__main__\":\n",
    "    main()"
   ]
  },
  {
   "cell_type": "markdown",
   "metadata": {},
   "source": [
    "## Q17\n",
    "Python program to create a contiguous flattened array."
   ]
  },
  {
   "cell_type": "code",
   "execution_count": 46,
   "metadata": {},
   "outputs": [],
   "source": [
    "def main():\n",
    "    arr = np.array([[1, 5, 6, 7], [8, 9, 12,18]]) \n",
    "    print(\"Original array:\\n\", arr) \n",
    "    \n",
    "    flattened_array = np.ravel(arr) \n",
    "    print(\"\\nNew flattened array:\\n\", flattened_array) "
   ]
  },
  {
   "cell_type": "code",
   "execution_count": 47,
   "metadata": {},
   "outputs": [
    {
     "name": "stdout",
     "output_type": "stream",
     "text": [
      "Original array:\n",
      " [[ 1  5  6  7]\n",
      " [ 8  9 12 18]]\n",
      "\n",
      "New flattened array:\n",
      " [ 1  5  6  7  8  9 12 18]\n"
     ]
    }
   ],
   "source": [
    "if __name__ == \"__main__\":\n",
    "    main()"
   ]
  },
  {
   "cell_type": "markdown",
   "metadata": {},
   "source": [
    "## Q18\n",
    "Python program to change the data type of an array."
   ]
  },
  {
   "cell_type": "code",
   "execution_count": 48,
   "metadata": {},
   "outputs": [],
   "source": [
    "def main():\n",
    "    n = int(input(\"Enter number of elements in the array: \"))\n",
    "    arr = np.array([(float(input(f\"Enter {i+1} element: \"))) for i in range(n)])\n",
    "    print(f\"The array is {arr}\")\n",
    "    print(f\"\\nThe orignal datatype of array is {arr.dtype}\")\n",
    "    \n",
    "    new_arr = arr.astype(int)\n",
    "    print(f\"\\nThe converted array is {new_arr}\")\n",
    "    print(f\"The coverted datatype of array is {new_arr.dtype}\")"
   ]
  },
  {
   "cell_type": "code",
   "execution_count": 50,
   "metadata": {},
   "outputs": [
    {
     "name": "stdout",
     "output_type": "stream",
     "text": [
      "The array is [1.23 2.43 0.9  9.24]\n",
      "\n",
      "The orignal datatype of array is float64\n",
      "\n",
      "The converted array is [1 2 0 9]\n",
      "The coverted datatype of array is int64\n"
     ]
    }
   ],
   "source": [
    "if __name__ == \"__main__\":\n",
    "    main()"
   ]
  },
  {
   "cell_type": "markdown",
   "metadata": {},
   "source": [
    "## Q19\n",
    "Python program to create a 3x3 array with ones on a diagonal and zeros elsewhere"
   ]
  },
  {
   "cell_type": "code",
   "execution_count": 54,
   "metadata": {},
   "outputs": [
    {
     "name": "stdout",
     "output_type": "stream",
     "text": [
      "[[1. 0. 0.]\n",
      " [0. 1. 0.]\n",
      " [0. 0. 1.]]\n"
     ]
    }
   ],
   "source": [
    "def main():\n",
    "    identity_arr = np.identity(3)\n",
    "    print(identity_arr)\n",
    "\n",
    "\n",
    "if __name__ == \"__main__\":\n",
    "    main()"
   ]
  },
  {
   "cell_type": "markdown",
   "metadata": {},
   "source": [
    "## Q20\n",
    "Python program to create an array which looks like below array.<br>\n",
    "Expected Output:<br>\n",
    "[[ 0. 0. 0.]<br>\n",
    "[ 1. 0. 0.]<br>\n",
    "[ 1. 1. 0.]]"
   ]
  },
  {
   "cell_type": "code",
   "execution_count": 55,
   "metadata": {},
   "outputs": [
    {
     "name": "stdout",
     "output_type": "stream",
     "text": [
      "[[0. 0. 0.]\n",
      " [1. 0. 0.]\n",
      " [1. 1. 0.]\n",
      " [1. 1. 1.]]\n"
     ]
    }
   ],
   "source": [
    "def main():\n",
    "    arr = np.zeros((4,3))\n",
    "\n",
    "    for row in range(len(arr)):\n",
    "        for column in range(row):\n",
    "            arr[row, column] = 1\n",
    "\n",
    "    print(arr)\n",
    "\n",
    "\n",
    "if __name__ == \"__main__\":\n",
    "    main()"
   ]
  },
  {
   "cell_type": "markdown",
   "metadata": {},
   "source": [
    "## Q21\n",
    "Python program to concatenate two 2-dimensional arrays."
   ]
  },
  {
   "cell_type": "code",
   "execution_count": 57,
   "metadata": {},
   "outputs": [],
   "source": [
    "def concatenate_arrays(arr1, arr2):\n",
    "  \"\"\"\n",
    "  Desciption:\n",
    "    Concatenates two 2D arrays horizontally.\n",
    "  Parameter:\n",
    "    arr1: The first 2D array.\n",
    "    arr2: The second 2D array.\n",
    "  Returns:\n",
    "    The concatenated 2D array.\n",
    "  \"\"\"\n",
    "  return np.concatenate((arr1, arr2), axis=1)"
   ]
  },
  {
   "cell_type": "code",
   "execution_count": 58,
   "metadata": {},
   "outputs": [
    {
     "name": "stdout",
     "output_type": "stream",
     "text": [
      "[[ 0  1  3  0  2  4]\n",
      " [ 5  7  9  6  8 10]]\n"
     ]
    }
   ],
   "source": [
    "def main():\n",
    "    arr1 = [[0, 1, 3], [5, 7, 9]]\n",
    "    arr2 = [[0, 2, 4], [6, 8, 10]]\n",
    "    \n",
    "    result = concatenate_arrays(arr1, arr2)\n",
    "    print(result)\n",
    "\n",
    "\n",
    "if __name__ == \"__main__\":\n",
    "    main()"
   ]
  },
  {
   "cell_type": "markdown",
   "metadata": {},
   "source": [
    "## Q22\n",
    "Python program to make an array immutable (read-only)."
   ]
  },
  {
   "cell_type": "code",
   "execution_count": 59,
   "metadata": {},
   "outputs": [
    {
     "name": "stdout",
     "output_type": "stream",
     "text": [
      "The array is [0 1 2 3 4 5 6 7 8 9]\n"
     ]
    },
    {
     "ename": "ValueError",
     "evalue": "assignment destination is read-only",
     "output_type": "error",
     "traceback": [
      "\u001b[0;31m---------------------------------------------------------------------------\u001b[0m",
      "\u001b[0;31mValueError\u001b[0m                                Traceback (most recent call last)",
      "Cell \u001b[0;32mIn[59], line 9\u001b[0m\n\u001b[1;32m      5\u001b[0m     nums[\u001b[38;5;241m0\u001b[39m] \u001b[38;5;241m=\u001b[39m \u001b[38;5;241m1\u001b[39m\n\u001b[1;32m      8\u001b[0m \u001b[38;5;28;01mif\u001b[39;00m \u001b[38;5;18m__name__\u001b[39m \u001b[38;5;241m==\u001b[39m \u001b[38;5;124m\"\u001b[39m\u001b[38;5;124m__main__\u001b[39m\u001b[38;5;124m\"\u001b[39m:\n\u001b[0;32m----> 9\u001b[0m     \u001b[43mmain\u001b[49m\u001b[43m(\u001b[49m\u001b[43m)\u001b[49m\n",
      "Cell \u001b[0;32mIn[59], line 5\u001b[0m, in \u001b[0;36mmain\u001b[0;34m()\u001b[0m\n\u001b[1;32m      3\u001b[0m \u001b[38;5;28mprint\u001b[39m(\u001b[38;5;124mf\u001b[39m\u001b[38;5;124m\"\u001b[39m\u001b[38;5;124mThe array is \u001b[39m\u001b[38;5;132;01m{\u001b[39;00mnums\u001b[38;5;132;01m}\u001b[39;00m\u001b[38;5;124m\"\u001b[39m)\n\u001b[1;32m      4\u001b[0m nums\u001b[38;5;241m.\u001b[39mflags\u001b[38;5;241m.\u001b[39mwriteable \u001b[38;5;241m=\u001b[39m \u001b[38;5;28;01mFalse\u001b[39;00m\n\u001b[0;32m----> 5\u001b[0m \u001b[43mnums\u001b[49m\u001b[43m[\u001b[49m\u001b[38;5;241;43m0\u001b[39;49m\u001b[43m]\u001b[49m \u001b[38;5;241m=\u001b[39m \u001b[38;5;241m1\u001b[39m\n",
      "\u001b[0;31mValueError\u001b[0m: assignment destination is read-only"
     ]
    }
   ],
   "source": [
    "def main():\n",
    "    nums = np.arange(10)\n",
    "    print(f\"The array is {nums}\")\n",
    "    nums.flags.writeable = False\n",
    "    nums[0] = 1\n",
    "    \n",
    "\n",
    "if __name__ == \"__main__\":\n",
    "    main()"
   ]
  },
  {
   "cell_type": "markdown",
   "metadata": {},
   "source": [
    "## Q23\n",
    "Python program to create an array of (3, 4) shape, multiply every element value by 3 and display the new array."
   ]
  },
  {
   "cell_type": "code",
   "execution_count": 60,
   "metadata": {},
   "outputs": [
    {
     "name": "stdout",
     "output_type": "stream",
     "text": [
      "The orignal array is:\n",
      "[[ 0  1  2  3]\n",
      " [ 4  5  6  7]\n",
      " [ 8  9 10 11]]\n",
      "\n",
      "The multiplied array is:\n",
      "[[ 0  3  6  9]\n",
      " [12 15 18 21]\n",
      " [24 27 30 33]]\n"
     ]
    }
   ],
   "source": [
    "def main():\n",
    "    # arr = np.ones((3,4))\n",
    "    arr = np.array([[0, 1, 2, 3],\n",
    "            [4, 5, 6, 7],\n",
    "            [8, 9, 10, 11]])\n",
    "    print(f\"The orignal array is:\\n{arr}\")\n",
    "    n = int(input(\"\\nEnter the number to be multiplied by array: \"))\n",
    "    arr = arr * n\n",
    "    print(f\"\\nThe multiplied array is:\\n{arr}\")\n",
    "\n",
    "\n",
    "if __name__ == \"__main__\":\n",
    "    main()"
   ]
  },
  {
   "cell_type": "markdown",
   "metadata": {},
   "source": [
    "## Q24\n",
    "Python program to convert a NumPy array into Python list structure."
   ]
  },
  {
   "cell_type": "code",
   "execution_count": 61,
   "metadata": {},
   "outputs": [
    {
     "name": "stdout",
     "output_type": "stream",
     "text": [
      "The array is \n",
      "[[0 1]\n",
      " [2 3]\n",
      " [4 5]]\n",
      "\n",
      "The numpy array converted into list is [[0, 1], [2, 3], [4, 5]]\n"
     ]
    }
   ],
   "source": [
    "def main():\n",
    "    # n = int(input(\"Enter number of elements in the array: \"))\n",
    "    # arr = np.array([(int(input(f\"Enter {i+1} element: \"))) for i in range(n)])\n",
    "    arr = np.array([[0, 1],[2, 3], [4, 5]])\n",
    "    print(f\"The array is \\n{arr}\")\n",
    "\n",
    "    print(f\"\\nThe numpy array converted into list is {arr.tolist()}\")\n",
    "    # print(f\"\\nThe numpy array converted into list is: \\n{list(arr)}\")\n",
    "\n",
    "\n",
    "if __name__ == \"__main__\":\n",
    "    main()"
   ]
  },
  {
   "cell_type": "markdown",
   "metadata": {},
   "source": [
    "## Q25\n",
    "Python program to print array values with precision 3."
   ]
  },
  {
   "cell_type": "code",
   "execution_count": 62,
   "metadata": {},
   "outputs": [
    {
     "name": "stdout",
     "output_type": "stream",
     "text": [
      "The array is:\n",
      "[0.26153123 0.52760141 0.5718299  0.5927067  0.7831874  0.69746349\n",
      " 0.35399976 0.99469633 0.0694458  0.54711478]\n",
      "\n",
      "The array values with precision 3 is:\n",
      "[0.262 0.528 0.572 0.593 0.783 0.697 0.354 0.995 0.069 0.547]\n"
     ]
    }
   ],
   "source": [
    "def main():\n",
    "    arr = np.array([0.26153123, 0.52760141, 0.5718299, 0.5927067, 0.7831874, 0.69746349, 0.35399976, 0.99469633, 0.0694458, 0.54711478])\n",
    "    print(f\"The array is:\\n{arr}\")\n",
    "\n",
    "    np.set_printoptions(precision=3)\n",
    "    print(f\"\\nThe array values with precision 3 is:\\n{arr}\")\n",
    "\n",
    "\n",
    "if __name__ == \"__main__\":\n",
    "    main()"
   ]
  },
  {
   "cell_type": "markdown",
   "metadata": {},
   "source": [
    "## Q26\n",
    "Python program to suppresses the use of scientific notation for small numbers in numpy array."
   ]
  },
  {
   "cell_type": "code",
   "execution_count": 63,
   "metadata": {},
   "outputs": [
    {
     "name": "stdout",
     "output_type": "stream",
     "text": [
      "The array is:\n",
      "[1.60e-10 1.60e+00 1.20e+03 2.35e-01]\n",
      "\n",
      "The array values with precision 3 is:\n",
      "[   0.       1.6   1200.       0.235]\n"
     ]
    }
   ],
   "source": [
    "def main():\n",
    "    arr = np.array([1.60000000e-10, 1.60000000e+00, 1.20000000e+03, 2.35000000e-01])\n",
    "    print(f\"The array is:\\n{arr}\")\n",
    "\n",
    "    np.set_printoptions(precision = 3, suppress = True)\n",
    "    print(f\"\\nThe array values with precision 3 is:\\n{arr}\")\n",
    "\n",
    "\n",
    "if __name__ == \"__main__\":\n",
    "    main()"
   ]
  }
 ],
 "metadata": {
  "kernelspec": {
   "display_name": "Python 3",
   "language": "python",
   "name": "python3"
  },
  "language_info": {
   "codemirror_mode": {
    "name": "ipython",
    "version": 3
   },
   "file_extension": ".py",
   "mimetype": "text/x-python",
   "name": "python",
   "nbconvert_exporter": "python",
   "pygments_lexer": "ipython3",
   "version": "3.10.12"
  }
 },
 "nbformat": 4,
 "nbformat_minor": 2
}
